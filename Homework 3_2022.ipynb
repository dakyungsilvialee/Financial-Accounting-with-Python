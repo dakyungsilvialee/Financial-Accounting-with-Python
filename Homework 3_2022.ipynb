{
 "cells": [
  {
   "cell_type": "markdown",
   "metadata": {},
   "source": [
    "# Homework 3\n",
    "\n",
    "I have inserted blank code cells for you to work in but feel free to add or delete depending on your needs. **Do not read into the number of code cells as a sign of the number of cells you need to answer the questions.** Feel free to also add markdown cells if you want to make notes for yourself. These may be helpful in the future as you can review this workbook to see the code you learned.\n",
    "\n",
    "Also note that I have inserted blank Markdown cells for you to insert your answers to my questions. These cells currently say \"Type Markdown and LaTeX:  𝛼2\". If you click on the cell, you can type in your response."
   ]
  },
  {
   "cell_type": "markdown",
   "metadata": {},
   "source": [
    "<font color='red' size = '5'> Exercise 1: Input your Data </font>\n",
    "\n",
    "a. First, download hw3.csv from Canvas and save to the same folder that holds this Homework 3 notebook\n",
    "\n",
    "b. Upload the data to this notebook as a DataFrame named ``df``. \n",
    "\n",
    "You should have the following variables:\n",
    "\n",
    "|Variable Name| Description|\n",
    "|:-----|:------|\n",
    "|country| Country|\n",
    "|year| Year the data relates to|\n",
    "|pop| Population of that country in that year, displayed in millions, billions or thousands|\n",
    "|pop2| Population of that country in that year as a numeric value|\n",
    "|gdp_percapita| GDP per person in that country in that year|\n",
    "|billion_num| number of billionaires based on country of citizenship|\n",
    "|billion_age| average age of billionaires in that country, 0 if no billionaires|\n",
    "|billion_rate_perM| number of billionaires per 1 million citizens|\n",
    "|poor10| percentage share of total income that accrues to bottom 10% of population|\n",
    "|rich10| percentage share of total income that accrues to top 10% of population|\n",
    "|pov_320| \\% of people below \\$3.20/day|\n",
    "|pov_550| \\% of people below \\$5.50/day|"
   ]
  },
  {
   "cell_type": "code",
   "execution_count": 29,
   "metadata": {},
   "outputs": [],
   "source": [
    "import pandas as pd"
   ]
  },
  {
   "cell_type": "code",
   "execution_count": 30,
   "metadata": {},
   "outputs": [],
   "source": [
    "df = pd.read_csv('hw3.csv')"
   ]
  },
  {
   "cell_type": "markdown",
   "metadata": {},
   "source": [
    "c. Is all of your data in the correct format? If not, update accordingly. Don't worry about formatting anything as a date, we're not quite there yet. But anything that we do want to perform mathematical calculations on should be a number and anything we do not want to perform calculations on should be a string.\n",
    "\n",
    "d. Change the float formatting of this notebook to have thousands separators and 2 decimal places."
   ]
  },
  {
   "cell_type": "code",
   "execution_count": 119,
   "metadata": {},
   "outputs": [],
   "source": [
    "#c\n",
    "\n",
    "df['year'] = df['year'].astype(str)\n",
    "df['billion_num'] = df['billion_num'].astype(str)\n",
    "\n",
    "df['billion_age'] = df['billion_age'].astype(str)\n",
    "df['billion_rate_perM'] = df['billion_rate_perM'].astype(str)\n",
    "df['gdp_percapita'] = df['gdp_percapita'].astype(str)\n",
    "df['poor10'] = df['poor10'].astype(str)\n",
    "df['rich10'] = df['rich10'].astype(str)\n",
    "df['pov_320'] = df['pov_320'].astype(str)\n",
    "df['pov_550'] = df['pov_550'].astype(str)\n",
    "df['pop2'] = df['pop2'].astype(str)"
   ]
  },
  {
   "cell_type": "code",
   "execution_count": 32,
   "metadata": {},
   "outputs": [],
   "source": [
    "#d\n",
    "\n",
    "pd.options.display.float_format = '{:,.2f}'.format"
   ]
  },
  {
   "cell_type": "code",
   "execution_count": 33,
   "metadata": {},
   "outputs": [
    {
     "data": {
      "text/html": [
       "<div>\n",
       "<style scoped>\n",
       "    .dataframe tbody tr th:only-of-type {\n",
       "        vertical-align: middle;\n",
       "    }\n",
       "\n",
       "    .dataframe tbody tr th {\n",
       "        vertical-align: top;\n",
       "    }\n",
       "\n",
       "    .dataframe thead th {\n",
       "        text-align: right;\n",
       "    }\n",
       "</style>\n",
       "<table border=\"1\" class=\"dataframe\">\n",
       "  <thead>\n",
       "    <tr style=\"text-align: right;\">\n",
       "      <th></th>\n",
       "      <th>billion_age</th>\n",
       "      <th>billion_rate_perM</th>\n",
       "      <th>gdp_percapita</th>\n",
       "      <th>poor10</th>\n",
       "      <th>rich10</th>\n",
       "      <th>pov_320</th>\n",
       "      <th>pov_550</th>\n",
       "      <th>pop2</th>\n",
       "    </tr>\n",
       "  </thead>\n",
       "  <tbody>\n",
       "    <tr>\n",
       "      <th>count</th>\n",
       "      <td>652.00</td>\n",
       "      <td>652.00</td>\n",
       "      <td>648.00</td>\n",
       "      <td>286.00</td>\n",
       "      <td>286.00</td>\n",
       "      <td>286.00</td>\n",
       "      <td>286.00</td>\n",
       "      <td>652.00</td>\n",
       "    </tr>\n",
       "    <tr>\n",
       "      <th>mean</th>\n",
       "      <td>16.05</td>\n",
       "      <td>0.11</td>\n",
       "      <td>10,450.92</td>\n",
       "      <td>2.62</td>\n",
       "      <td>29.73</td>\n",
       "      <td>17.46</td>\n",
       "      <td>30.03</td>\n",
       "      <td>39,114,499.25</td>\n",
       "    </tr>\n",
       "    <tr>\n",
       "      <th>std</th>\n",
       "      <td>27.79</td>\n",
       "      <td>0.41</td>\n",
       "      <td>16,909.05</td>\n",
       "      <td>0.95</td>\n",
       "      <td>6.71</td>\n",
       "      <td>24.41</td>\n",
       "      <td>31.56</td>\n",
       "      <td>141,526,013.96</td>\n",
       "    </tr>\n",
       "    <tr>\n",
       "      <th>min</th>\n",
       "      <td>0.00</td>\n",
       "      <td>0.00</td>\n",
       "      <td>286.00</td>\n",
       "      <td>0.50</td>\n",
       "      <td>20.40</td>\n",
       "      <td>0.00</td>\n",
       "      <td>0.00</td>\n",
       "      <td>9,830.00</td>\n",
       "    </tr>\n",
       "    <tr>\n",
       "      <th>25%</th>\n",
       "      <td>0.00</td>\n",
       "      <td>0.00</td>\n",
       "      <td>1,307.50</td>\n",
       "      <td>1.90</td>\n",
       "      <td>24.90</td>\n",
       "      <td>0.50</td>\n",
       "      <td>1.42</td>\n",
       "      <td>2,765,000.00</td>\n",
       "    </tr>\n",
       "    <tr>\n",
       "      <th>50%</th>\n",
       "      <td>0.00</td>\n",
       "      <td>0.00</td>\n",
       "      <td>3,500.00</td>\n",
       "      <td>2.60</td>\n",
       "      <td>27.65</td>\n",
       "      <td>4.80</td>\n",
       "      <td>19.75</td>\n",
       "      <td>8,585,000.00</td>\n",
       "    </tr>\n",
       "    <tr>\n",
       "      <th>75%</th>\n",
       "      <td>39.50</td>\n",
       "      <td>0.01</td>\n",
       "      <td>9,677.50</td>\n",
       "      <td>3.40</td>\n",
       "      <td>33.10</td>\n",
       "      <td>26.18</td>\n",
       "      <td>51.83</td>\n",
       "      <td>26,400,000.00</td>\n",
       "    </tr>\n",
       "    <tr>\n",
       "      <th>max</th>\n",
       "      <td>79.00</td>\n",
       "      <td>6.62</td>\n",
       "      <td>112,000.00</td>\n",
       "      <td>4.80</td>\n",
       "      <td>54.20</td>\n",
       "      <td>98.50</td>\n",
       "      <td>99.70</td>\n",
       "      <td>1,350,000,000.00</td>\n",
       "    </tr>\n",
       "  </tbody>\n",
       "</table>\n",
       "</div>"
      ],
      "text/plain": [
       "       billion_age  billion_rate_perM  gdp_percapita  poor10  rich10  pov_320  \\\n",
       "count       652.00             652.00         648.00  286.00  286.00   286.00   \n",
       "mean         16.05               0.11      10,450.92    2.62   29.73    17.46   \n",
       "std          27.79               0.41      16,909.05    0.95    6.71    24.41   \n",
       "min           0.00               0.00         286.00    0.50   20.40     0.00   \n",
       "25%           0.00               0.00       1,307.50    1.90   24.90     0.50   \n",
       "50%           0.00               0.00       3,500.00    2.60   27.65     4.80   \n",
       "75%          39.50               0.01       9,677.50    3.40   33.10    26.18   \n",
       "max          79.00               6.62     112,000.00    4.80   54.20    98.50   \n",
       "\n",
       "       pov_550             pop2  \n",
       "count   286.00           652.00  \n",
       "mean     30.03    39,114,499.25  \n",
       "std      31.56   141,526,013.96  \n",
       "min       0.00         9,830.00  \n",
       "25%       1.42     2,765,000.00  \n",
       "50%      19.75     8,585,000.00  \n",
       "75%      51.83    26,400,000.00  \n",
       "max      99.70 1,350,000,000.00  "
      ]
     },
     "execution_count": 33,
     "metadata": {},
     "output_type": "execute_result"
    }
   ],
   "source": [
    "df.describe()"
   ]
  },
  {
   "cell_type": "code",
   "execution_count": 34,
   "metadata": {},
   "outputs": [
    {
     "name": "stdout",
     "output_type": "stream",
     "text": [
      "<class 'pandas.core.frame.DataFrame'>\n",
      "RangeIndex: 652 entries, 0 to 651\n",
      "Data columns (total 12 columns):\n",
      " #   Column             Non-Null Count  Dtype  \n",
      "---  ------             --------------  -----  \n",
      " 0   country            652 non-null    object \n",
      " 1   year               652 non-null    object \n",
      " 2   billion_age        652 non-null    float64\n",
      " 3   billion_num        652 non-null    object \n",
      " 4   billion_rate_perM  652 non-null    float64\n",
      " 5   gdp_percapita      648 non-null    float64\n",
      " 6   poor10             286 non-null    float64\n",
      " 7   rich10             286 non-null    float64\n",
      " 8   pop                652 non-null    object \n",
      " 9   pov_320            286 non-null    float64\n",
      " 10  pov_550            286 non-null    float64\n",
      " 11  pop2               652 non-null    float64\n",
      "dtypes: float64(8), object(4)\n",
      "memory usage: 61.2+ KB\n"
     ]
    }
   ],
   "source": [
    "df.info()"
   ]
  },
  {
   "cell_type": "markdown",
   "metadata": {},
   "source": [
    "<font color='red' size = '5'> Exercise 2: Understand your Data </font>\n",
    "\n",
    "a. Describe your data (using code, not words).\n",
    "\n",
    "b. Use what you learn from the summary statistics and your data subsetting skills to answer the following questions. You may answer by simply having code that outputs the answer. No need to add markdown cells. Each question should be answered with **one** line of code.\n",
    "    \n",
    "1. People in which country in which year are the poorest of the poor? (accrue the smallest amount of their country's total income)\n",
    "    \n",
    "2. Has the plight of these countries' poorest citizens improved over the time period captured by our data sample?\n",
    "3. What percentage of total income does the richest 10% of the population accrue in the country with the most billionaires? Answer this question twice- once for the country with the absolute most billionaires and once for the country with the most billionaires per million people"
   ]
  },
  {
   "cell_type": "code",
   "execution_count": 83,
   "metadata": {},
   "outputs": [
    {
     "data": {
      "text/plain": [
       "45    Ethiopia\n",
       "Name: country, dtype: object"
      ]
     },
     "execution_count": 83,
     "metadata": {},
     "output_type": "execute_result"
    }
   ],
   "source": [
    "#1\n",
    "#we filter out the minimum amount of gdp_percapita with its respective country.\n",
    "\n",
    "df['country'][df['gdp_percapita'] == df['gdp_percapita'].min()]"
   ]
  },
  {
   "cell_type": "code",
   "execution_count": 100,
   "metadata": {},
   "outputs": [
    {
     "data": {
      "text/plain": [
       "45    2003\n",
       "Name: year, dtype: object"
      ]
     },
     "execution_count": 100,
     "metadata": {},
     "output_type": "execute_result"
    }
   ],
   "source": [
    "#we filter out the minimum amount of gdp_percapita and it's country with its respective year\n",
    "df['year'][df['gdp_percapita'] == df['gdp_percapita'].min()]"
   ]
  },
  {
   "cell_type": "code",
   "execution_count": 113,
   "metadata": {},
   "outputs": [
    {
     "data": {
      "text/plain": [
       "country\n",
       "Albania     11,090.00\n",
       "Algeria     14,930.00\n",
       "Angola      13,390.00\n",
       "Argentina   46,500.00\n",
       "Armenia     10,210.00\n",
       "               ...   \n",
       "Vanuatu     10,740.00\n",
       "Vietnam      5,240.00\n",
       "Yemen       10,100.00\n",
       "Zambia       3,782.00\n",
       "Zimbabwe     4,480.00\n",
       "Name: gdp_percapita, Length: 163, dtype: float64"
      ]
     },
     "execution_count": 113,
     "metadata": {},
     "output_type": "execute_result"
    }
   ],
   "source": [
    "#2\n",
    "\n",
    "df.groupby('country')['gdp_percapita'].sum()"
   ]
  },
  {
   "cell_type": "code",
   "execution_count": 141,
   "metadata": {},
   "outputs": [
    {
     "data": {
      "text/plain": [
       "65     29.2\n",
       "298    21.1\n",
       "559    29.5\n",
       "594     nan\n",
       "Name: rich10, dtype: object"
      ]
     },
     "execution_count": 141,
     "metadata": {},
     "output_type": "execute_result"
    }
   ],
   "source": [
    "#3\n",
    "\n",
    "df['rich10'][df['billion_num'] == df['billion_num'].max()]"
   ]
  },
  {
   "cell_type": "code",
   "execution_count": 142,
   "metadata": {},
   "outputs": [
    {
     "data": {
      "text/plain": [
       "Series([], Name: rich10, dtype: object)"
      ]
     },
     "execution_count": 142,
     "metadata": {},
     "output_type": "execute_result"
    }
   ],
   "source": [
    "df['rich10'][df['billion_num'] == df['billion_rate_perM'].max()]"
   ]
  },
  {
   "cell_type": "markdown",
   "metadata": {},
   "source": [
    "<font color='red' size = '5'> Exercise 3: Analyze your Data </font>\n",
    "    \n",
    "a. Calculate the total GDP in each country in each year. You do not need to display anything for this step.\n",
    "\n",
    "b. Calculate the worldwide GDP in each year.\n",
    "\n",
    "c. Calculate the worldwide population in each year.\n",
    "\n",
    "d. What is the worldwide gdp per capita in each year? Answer with code output.\n",
    "\n",
    "e. What is the total number of billionaires in each year of our sample? Answer with code output.\n",
    "\n",
    "f. What is the average age of billionaires worldwide? Be sure that your calculation does not include countries without billionaires.\n",
    "\n",
    "g. Challenge Question: What percentage of worldwide billionaires live in the US in each year? Note: because this question is so hard it is not worth very many points but I would still love for you to attempt to answer it. Think about what you need in what format to calculate the answer. And of course, I am looking for code, not hard coding."
   ]
  },
  {
   "cell_type": "code",
   "execution_count": 127,
   "metadata": {},
   "outputs": [
    {
     "data": {
      "text/plain": [
       "country\n",
       "Albania          2520.02680.02850.03040.0\n",
       "Algeria          3590.03750.03760.03830.0\n",
       "Angola           2900.03220.03460.03810.0\n",
       "Argentina    10400.011200.012000.012900.0\n",
       "Armenia          2060.02360.02700.03090.0\n",
       "                         ...             \n",
       "Vanuatu          2550.02620.02780.02790.0\n",
       "Vietnam          1190.01270.01350.01430.0\n",
       "Yemen            2470.02540.02540.02550.0\n",
       "Zambia              879.0918.0965.01020.0\n",
       "Zimbabwe         1210.01140.01090.01040.0\n",
       "Name: gdp_percapita, Length: 163, dtype: object"
      ]
     },
     "execution_count": 127,
     "metadata": {},
     "output_type": "execute_result"
    }
   ],
   "source": [
    "#a\n",
    "\n",
    "df.groupby('country')['gdp_percapita'].sum()"
   ]
  },
  {
   "cell_type": "code",
   "execution_count": 131,
   "metadata": {},
   "outputs": [
    {
     "data": {
      "text/plain": [
       "year\n",
       "2003    2900.02520.057900.010400.02060.049400.040700.0...\n",
       "2004    3220.02680.053800.011200.02360.050300.041300.0...\n",
       "2005    3460.02850.051200.012000.02700.050900.042500.0...\n",
       "2006    3810.03040.045400.012900.03090.052500.043900.0...\n",
       "Name: gdp_percapita, dtype: object"
      ]
     },
     "execution_count": 131,
     "metadata": {},
     "output_type": "execute_result"
    }
   ],
   "source": [
    "#b\n",
    "\n",
    "df.groupby('year')['gdp_percapita'].sum()"
   ]
  },
  {
   "cell_type": "code",
   "execution_count": 134,
   "metadata": {},
   "outputs": [
    {
     "data": {
      "text/plain": [
       "0      NaN\n",
       "1      NaN\n",
       "2      NaN\n",
       "3      NaN\n",
       "4      NaN\n",
       "      ... \n",
       "647    NaN\n",
       "648    NaN\n",
       "649    NaN\n",
       "650    NaN\n",
       "651    NaN\n",
       "Name: worldwide_pop, Length: 652, dtype: object"
      ]
     },
     "execution_count": 134,
     "metadata": {},
     "output_type": "execute_result"
    }
   ],
   "source": [
    "#c\n",
    "\n",
    "df['worldwide_pop'] = df.groupby('year')['gdp_percapita'].sum() * df['gdp_percapita']\n",
    "df['worldwide_pop']"
   ]
  },
  {
   "cell_type": "code",
   "execution_count": 143,
   "metadata": {},
   "outputs": [
    {
     "data": {
      "text/plain": [
       "<pandas.core.groupby.generic.SeriesGroupBy object at 0x7f991b118ee0>"
      ]
     },
     "execution_count": 143,
     "metadata": {},
     "output_type": "execute_result"
    }
   ],
   "source": [
    "#d \n",
    "df.groupby('year')['gdp_percapita']"
   ]
  },
  {
   "cell_type": "code",
   "execution_count": 136,
   "metadata": {},
   "outputs": [
    {
     "data": {
      "text/plain": [
       "year\n",
       "2003    0021053001000000006000177310000200000520300008...\n",
       "2004    0021064001000000008000178320000200000570300011...\n",
       "2005    0051073002000000001600022828000020000155020002...\n",
       "2006    0051012300200000000200002383200000200021550200...\n",
       "Name: billion_num, dtype: object"
      ]
     },
     "execution_count": 136,
     "metadata": {},
     "output_type": "execute_result"
    }
   ],
   "source": [
    "#e\n",
    "df.groupby('year')['billion_num'].sum()"
   ]
  },
  {
   "cell_type": "code",
   "execution_count": 139,
   "metadata": {},
   "outputs": [
    {
     "data": {
      "text/plain": [
       "'0.00.050.069.00.069.669.30.00.078.00.00.00.00.00.00.00.00.070.50.00.00.065.566.075.062.00.00.00.00.075.50.00.00.00.00.066.20.067.00.00.00.00.061.90.00.00.00.067.00.00.059.00.00.00.00.00.057.00.00.00.00.00.00.056.053.663.50.00.00.056.866.50.00.066.30.00.00.00.071.50.060.00.00.00.00.00.00.00.00.00.00.00.063.00.00.00.00.00.00.00.00.00.00.00.072.60.00.00.00.056.065.00.00.00.00.00.074.00.00.075.00.00.00.044.90.00.00.00.00.00.00.00.00.00.066.90.00.00.00.00.064.00.00.00.00.00.00.060.20.00.00.00.00.064.40.00.00.00.00.055.50.00.00.00.051.070.00.069.373.80.00.079.00.00.00.00.00.00.00.00.067.70.00.00.063.967.076.049.00.00.00.00.076.50.00.00.00.00.065.10.068.00.00.00.075.064.80.00.00.00.066.70.00.059.70.00.00.00.00.058.00.00.00.00.00.00.060.556.562.30.00.038.062.067.20.00.065.550.70.00.00.070.70.00.00.00.00.00.00.00.00.00.00.00.00.060.90.00.00.00.00.00.00.00.00.00.00.073.50.00.00.00.058.565.80.00.00.00.00.073.30.051.567.00.00.00.044.40.00.00.00.00.00.00.00.00.00.067.80.00.00.00.00.066.00.00.00.00.00.00.060.90.00.00.044.00.064.80.00.00.00.00.062.30.00.00.00.062.571.00.062.171.30.00.066.50.00.00.00.00.00.00.00.058.00.00.00.062.963.976.047.50.00.00.00.077.50.00.00.00.041.066.20.075.00.00.00.076.065.80.00.00.00.067.50.00.058.40.00.00.00.00.059.00.00.00.00.00.00.061.554.961.50.00.039.063.564.40.00.064.448.50.00.00.069.30.023.50.00.00.00.00.00.00.00.00.00.00.061.90.00.00.00.00.00.00.00.00.00.00.073.80.00.00.00.059.566.80.00.00.00.00.074.30.049.768.00.00.00.045.50.00.00.00.00.00.00.00.00.00.069.00.00.00.00.00.067.00.00.00.00.00.00.062.50.00.00.045.00.065.10.00.00.00.00.063.30.00.00.00.061.372.00.064.172.30.00.067.50.00.00.00.00.00.00.00.059.40.00.00.061.164.970.348.90.00.00.00.078.50.00.00.058.042.066.30.076.00.00.00.059.762.10.00.00.00.069.90.00.059.60.00.00.00.00.060.00.00.00.00.00.00.062.556.362.50.00.053.062.966.00.00.064.843.80.00.00.052.70.038.50.00.00.00.00.00.00.00.00.00.00.062.80.00.00.00.00.00.00.00.00.00.00.072.60.00.00.00.060.564.30.00.00.00.00.075.30.050.469.00.00.067.046.10.00.00.00.00.00.061.00.00.00.070.00.00.00.00.00.068.00.00.00.00.00.00.061.30.00.00.044.20.065.30.00.00.00.00.064.30.00.0'"
      ]
     },
     "execution_count": 139,
     "metadata": {},
     "output_type": "execute_result"
    }
   ],
   "source": [
    "#f\n",
    "df['billion_age'].sum()"
   ]
  },
  {
   "cell_type": "markdown",
   "metadata": {},
   "source": [
    "<font color='red' size = '5'> Question 1 </font>\n",
    "\n",
    "In the following code, classify each item in the code as a variable, function, method or attribute: \n",
    "```python\n",
    "print(df.columns)\n",
    "```"
   ]
  },
  {
   "cell_type": "markdown",
   "metadata": {},
   "source": [
    "df = (country, year, billion_age, billion_num, billion_rate_perM, gdp_percapita, poor10, rich10, pop, pov_320, pov_550, pop2) "
   ]
  },
  {
   "cell_type": "markdown",
   "metadata": {},
   "source": [
    "## Prep for Next Week's Class\n",
    "\n",
    "Read the first three pages of EY ARC_360 Performance Evaluations."
   ]
  }
 ],
 "metadata": {
  "kernelspec": {
   "display_name": "Python 3 (ipykernel)",
   "language": "python",
   "name": "python3"
  },
  "language_info": {
   "codemirror_mode": {
    "name": "ipython",
    "version": 3
   },
   "file_extension": ".py",
   "mimetype": "text/x-python",
   "name": "python",
   "nbconvert_exporter": "python",
   "pygments_lexer": "ipython3",
   "version": "3.9.7"
  }
 },
 "nbformat": 4,
 "nbformat_minor": 2
}
