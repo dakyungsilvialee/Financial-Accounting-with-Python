{
 "cells": [
  {
   "cell_type": "markdown",
   "metadata": {},
   "source": [
    "# Homework 2\n",
    "\n",
    "Nothing in this notebook should be hard coded except when I ask you to input data such as in Exercise 1a."
   ]
  },
  {
   "cell_type": "markdown",
   "metadata": {},
   "source": [
    "<font color='red' size = '5'> Exercise 1: Lists </font>\n",
    "\n",
    "**a.** Make a list with 6 numerical values. Include at least one number above 100, one number with decimals, and one negative number. Make sure your list is not in ascending or descending order and name your list ``mylist``."
   ]
  },
  {
   "cell_type": "code",
   "execution_count": 149,
   "metadata": {},
   "outputs": [],
   "source": [
    "# enter your answer here\n",
    "\n",
    "mylist = [101, 0.5, -2, 50, 20, 30]"
   ]
  },
  {
   "cell_type": "markdown",
   "metadata": {},
   "source": [
    "**b.** Use list subsetting to extract the second item in the list and save it to a variable named ``second``."
   ]
  },
  {
   "cell_type": "code",
   "execution_count": 152,
   "metadata": {},
   "outputs": [
    {
     "data": {
      "text/plain": [
       "[0.5]"
      ]
     },
     "execution_count": 152,
     "metadata": {},
     "output_type": "execute_result"
    }
   ],
   "source": [
    "mylist[1:-4]\n",
    "\n",
    "second = mylist[1:-4]\n",
    "\n",
    "second"
   ]
  },
  {
   "cell_type": "markdown",
   "metadata": {},
   "source": [
    "**c.** Raise the variable ``second`` to the 3rd power and name the resulting solution ``third``."
   ]
  },
  {
   "cell_type": "code",
   "execution_count": 153,
   "metadata": {},
   "outputs": [
    {
     "data": {
      "text/plain": [
       "0.125"
      ]
     },
     "execution_count": 153,
     "metadata": {},
     "output_type": "execute_result"
    }
   ],
   "source": [
    "third = 0.5**3\n",
    "third"
   ]
  },
  {
   "cell_type": "markdown",
   "metadata": {},
   "source": [
    "**d.** Use list subsetting to make a new list named ``newlist`` that includes every other item, starting with the second item from your first list."
   ]
  },
  {
   "cell_type": "code",
   "execution_count": 154,
   "metadata": {},
   "outputs": [
    {
     "data": {
      "text/plain": [
       "[0.5, -2, 50, 20, 30]"
      ]
     },
     "execution_count": 154,
     "metadata": {},
     "output_type": "execute_result"
    }
   ],
   "source": [
    "newlist = mylist[1::]\n",
    "newlist"
   ]
  },
  {
   "cell_type": "markdown",
   "metadata": {},
   "source": [
    "**e.** Save the minimum value in ``newlist`` as ``lowest``."
   ]
  },
  {
   "cell_type": "code",
   "execution_count": 155,
   "metadata": {},
   "outputs": [
    {
     "data": {
      "text/plain": [
       "-2"
      ]
     },
     "execution_count": 155,
     "metadata": {},
     "output_type": "execute_result"
    }
   ],
   "source": [
    "lowest = min(newlist)\n",
    "lowest"
   ]
  },
  {
   "cell_type": "markdown",
   "metadata": {},
   "source": [
    "<font color='red' size = '5'> Exercise 2: Dictionaries </font>\n",
    "\n",
    "**a.** Make a dictionary to store the following data:\n",
    "\n",
    "- 3 keys- each the name of a course you are taking\n",
    "- 3 values for each key- expected difficulty (easy, medium, hard), expected grade, level of enthusiasm for the subject (1-10)\n",
    "\n",
    "Make sure at least one class has an expected difficulty of 'easy' but that not all have an expected difficult of 'easy'.\n",
    "\n",
    "Name your dictionary ``classes``."
   ]
  },
  {
   "cell_type": "code",
   "execution_count": 156,
   "metadata": {},
   "outputs": [
    {
     "data": {
      "text/plain": [
       "{'Act499r': ['hard', 'b', 5],\n",
       " 'Isom352': ['medium', 'a', 6],\n",
       " 'Isom475': ['easy', 'a', 7]}"
      ]
     },
     "execution_count": 156,
     "metadata": {},
     "output_type": "execute_result"
    }
   ],
   "source": [
    "classes = {'Act499r' : ['hard','b',5], 'Isom352' : ['medium','a',6], 'Isom475' : ['easy','a',7]}\n",
    "classes"
   ]
  },
  {
   "cell_type": "markdown",
   "metadata": {},
   "source": [
    "**b.** Use dictionary subsetting and a list method to add an item that specifies whether the second course in your dictionary is an elective or required course."
   ]
  },
  {
   "cell_type": "code",
   "execution_count": 157,
   "metadata": {},
   "outputs": [
    {
     "data": {
      "text/plain": [
       "{'Act499r': ['hard', 'b', 5],\n",
       " 'Isom352': ['medium', 'a', 6, 'elective'],\n",
       " 'Isom475': ['easy', 'a', 7]}"
      ]
     },
     "execution_count": 157,
     "metadata": {},
     "output_type": "execute_result"
    }
   ],
   "source": [
    "classes['Isom352'] = ['medium','a',6,'elective']\n",
    "classes"
   ]
  },
  {
   "cell_type": "markdown",
   "metadata": {},
   "source": [
    "**c.** Add a fourth class to your dictionary with the same three values you listed for the other courses."
   ]
  },
  {
   "cell_type": "code",
   "execution_count": 88,
   "metadata": {},
   "outputs": [
    {
     "data": {
      "text/plain": [
       "{'Act499r': ['hard', 'b', 5],\n",
       " 'Isom352': ['medium', 'a', 6, 'elective'],\n",
       " 'Isom475': ['easy', 'a', 7],\n",
       " 'Fin423': ['hard', 'a', 6]}"
      ]
     },
     "execution_count": 88,
     "metadata": {},
     "output_type": "execute_result"
    }
   ],
   "source": [
    "classes['Fin423'] = ['hard','a',6]\n",
    "classes"
   ]
  },
  {
   "cell_type": "markdown",
   "metadata": {},
   "source": [
    "**d.** Write a for loop to print out the following information for each class in your dictionary:\n",
    "```python\n",
    "\n",
    "Classname  Expected Difficulty\n",
    "```"
   ]
  },
  {
   "cell_type": "code",
   "execution_count": 167,
   "metadata": {},
   "outputs": [
    {
     "name": "stdout",
     "output_type": "stream",
     "text": [
      "Act499r hard\n",
      "Isom352 medium\n",
      "Isom475 easy\n"
     ]
    }
   ],
   "source": [
    "for key, value in classes.items():\n",
    "    print(key, str(value[0]))"
   ]
  },
  {
   "cell_type": "markdown",
   "metadata": {},
   "source": [
    "**e.** Write a for loop that only prints your expected grade for a subject *if* you labeled the expected difficulty as 'easy'. Output should look like:\n",
    "\n",
    "```python\n",
    "\n",
    "Classname Expected Grade\n",
    "```"
   ]
  },
  {
   "cell_type": "code",
   "execution_count": 168,
   "metadata": {},
   "outputs": [
    {
     "name": "stdout",
     "output_type": "stream",
     "text": [
      "Isom475 a\n"
     ]
    }
   ],
   "source": [
    "for key, value in classes.items():\n",
    "    if value[0] == \"easy\":\n",
    "        print(key, str(value[1]))"
   ]
  },
  {
   "cell_type": "markdown",
   "metadata": {},
   "source": [
    "<font color='red' size = '5'> Exercise 3: Functions </font>\n",
    "\n",
    "Use a function to calculate the future value of a \\$10 investment made today. The investment will earn 2\\% per year and you plan to invest the money for 50 years. Make your code dynamic (easy to update). Save your answer under the variable name ``investment``."
   ]
  },
  {
   "cell_type": "code",
   "execution_count": 119,
   "metadata": {},
   "outputs": [],
   "source": [
    "import math\n",
    "\n",
    "interest = 0.02\n",
    "time = 50\n",
    "loan = 10\n",
    "payment = 0"
   ]
  },
  {
   "cell_type": "code",
   "execution_count": 123,
   "metadata": {},
   "outputs": [
    {
     "data": {
      "text/plain": [
       "10.007924188899338"
      ]
     },
     "execution_count": 123,
     "metadata": {},
     "output_type": "execute_result"
    }
   ],
   "source": [
    "investment = loan*(1+interest)**time\n",
    "investment"
   ]
  },
  {
   "cell_type": "markdown",
   "metadata": {},
   "source": [
    "<font color='red' size = '5'> Exercise 4: NBV Function </font>\n",
    "    \n",
    "Finish the function we started in class on Wednesday: \n",
    "\n",
    "Create a function that calculates the net book value of an asset. \n",
    "\n",
    "   <font size = 4> Net Book Value = Historical Cost - Accumulated Depreciation </font>\n",
    "\n",
    "**Note that we should not depreciate below the asset's residual value.** This consideration should be included in your function."
   ]
  },
  {
   "cell_type": "code",
   "execution_count": 178,
   "metadata": {},
   "outputs": [],
   "source": [
    "#approach 1:\n",
    "#Net Book Value = Historical Cost - (Per Year Depreciation x Total Number of Years of Using it)\n",
    "#we need 4 arguments (historical_cost, accumulated_depreciation (annual_depreciation, total_years))\n",
    "#we need to define the function and put those 4 arguments\n",
    "\n",
    "def net_book_value(historical_cost, accumulated_depreciation):\n",
    "    accumulated_depreciation = (annual_depreciation*total_years)\n",
    "    return(net_book_value)"
   ]
  },
  {
   "cell_type": "code",
   "execution_count": 185,
   "metadata": {},
   "outputs": [],
   "source": [
    "#approach 2: assign the dictionary and loop it with depreciation value and using boolean value for the condition for the \"we should not depreciate below the asset's residual value\"\n",
    "data = {'Chair': [50, 10, 3],\n",
    "        'Table': [100, 10, 5],\n",
    "        'Building': [500000, 100000, 25],\n",
    "        'Land': [150000, 100000, 100]}"
   ]
  },
  {
   "cell_type": "code",
   "execution_count": 186,
   "metadata": {},
   "outputs": [
    {
     "data": {
      "text/plain": [
       "dict_items([('Chair', [50, 10, 3]), ('Table', [100, 10, 5]), ('Building', [500000, 100000, 25]), ('Land', [150000, 100000, 100])])"
      ]
     },
     "execution_count": 186,
     "metadata": {},
     "output_type": "execute_result"
    }
   ],
   "source": [
    "data.items()"
   ]
  },
  {
   "cell_type": "code",
   "execution_count": 187,
   "metadata": {},
   "outputs": [],
   "source": [
    "def dep(historical_cost, salvage_value, useful_life):\n",
    "    return (historical_cost - salvage_value)/useful_life"
   ]
  },
  {
   "cell_type": "code",
   "execution_count": 188,
   "metadata": {},
   "outputs": [],
   "source": [
    "def net_book_value(historical_cost, periods):\n",
    "    for k, v in data.items():\n",
    "        if dep (v[0], v[1], v[2]) > v[1]:\n",
    "            print(k, \"Not Depreciated\")\n",
    "        else:\n",
    "            acc_dep = dep (v[0], v[1], v[2])*periods\n",
    "            nbv = int(historical_cost - acc_dep)\n",
    "        return(nbv)"
   ]
  },
  {
   "cell_type": "code",
   "execution_count": 189,
   "metadata": {},
   "outputs": [
    {
     "name": "stdout",
     "output_type": "stream",
     "text": [
      "Chair Not Depreciated\n"
     ]
    },
    {
     "ename": "UnboundLocalError",
     "evalue": "local variable 'nbv' referenced before assignment",
     "output_type": "error",
     "traceback": [
      "\u001b[0;31m---------------------------------------------------------------------------\u001b[0m",
      "\u001b[0;31mUnboundLocalError\u001b[0m                         Traceback (most recent call last)",
      "\u001b[0;32m/var/folders/xp/sw_vjs8s7pdcq6bfz9y7pw640000gn/T/ipykernel_10859/344348550.py\u001b[0m in \u001b[0;36m<module>\u001b[0;34m\u001b[0m\n\u001b[0;32m----> 1\u001b[0;31m \u001b[0mnet_book_value\u001b[0m \u001b[0;34m(\u001b[0m\u001b[0;36m100\u001b[0m\u001b[0;34m,\u001b[0m\u001b[0;36m5\u001b[0m\u001b[0;34m)\u001b[0m\u001b[0;34m\u001b[0m\u001b[0;34m\u001b[0m\u001b[0m\n\u001b[0m",
      "\u001b[0;32m/var/folders/xp/sw_vjs8s7pdcq6bfz9y7pw640000gn/T/ipykernel_10859/3548208885.py\u001b[0m in \u001b[0;36mnet_book_value\u001b[0;34m(historical_cost, periods)\u001b[0m\n\u001b[1;32m      6\u001b[0m             \u001b[0macc_dep\u001b[0m \u001b[0;34m=\u001b[0m \u001b[0mdep\u001b[0m \u001b[0;34m(\u001b[0m\u001b[0mv\u001b[0m\u001b[0;34m[\u001b[0m\u001b[0;36m0\u001b[0m\u001b[0;34m]\u001b[0m\u001b[0;34m,\u001b[0m \u001b[0mv\u001b[0m\u001b[0;34m[\u001b[0m\u001b[0;36m1\u001b[0m\u001b[0;34m]\u001b[0m\u001b[0;34m,\u001b[0m \u001b[0mv\u001b[0m\u001b[0;34m[\u001b[0m\u001b[0;36m2\u001b[0m\u001b[0;34m]\u001b[0m\u001b[0;34m)\u001b[0m\u001b[0;34m*\u001b[0m\u001b[0mperiods\u001b[0m\u001b[0;34m\u001b[0m\u001b[0;34m\u001b[0m\u001b[0m\n\u001b[1;32m      7\u001b[0m             \u001b[0mnbv\u001b[0m \u001b[0;34m=\u001b[0m \u001b[0mint\u001b[0m\u001b[0;34m(\u001b[0m\u001b[0mhistorical_cost\u001b[0m \u001b[0;34m-\u001b[0m \u001b[0macc_dep\u001b[0m\u001b[0;34m)\u001b[0m\u001b[0;34m\u001b[0m\u001b[0;34m\u001b[0m\u001b[0m\n\u001b[0;32m----> 8\u001b[0;31m         \u001b[0;32mreturn\u001b[0m\u001b[0;34m(\u001b[0m\u001b[0mnbv\u001b[0m\u001b[0;34m)\u001b[0m\u001b[0;34m\u001b[0m\u001b[0;34m\u001b[0m\u001b[0m\n\u001b[0m",
      "\u001b[0;31mUnboundLocalError\u001b[0m: local variable 'nbv' referenced before assignment"
     ]
    }
   ],
   "source": [
    "net_book_value (100,5)"
   ]
  },
  {
   "cell_type": "markdown",
   "metadata": {},
   "source": [
    "<font color='red' size = '5'> Exercise 5: Markdown </font>\n",
    "\n",
    "Add a cell below and make it a markdown cell. In that cell answer the following questions:\n",
    "\n",
    "a. On a scale from 1-10, what is your current comfort level with Python and the content we have covered so far?\n",
    "\n",
    "b. What if anything are you currently struggling the most with in Python?"
   ]
  },
  {
   "cell_type": "code",
   "execution_count": null,
   "metadata": {},
   "outputs": [],
   "source": [
    "# a. 5 overall\n",
    "# b. Creating loops that have multiple lists and key values within them. I still need to look at my notes back and forth and think."
   ]
  },
  {
   "cell_type": "markdown",
   "metadata": {},
   "source": [
    "<font color='red' size = '5'> Extra Credit: Nested Loop </font>\n",
    "    \n",
    "Create a dictionary that holds the same four assets we studied in class.\n",
    "\n",
    "Create a loop that iterates over the assets in our dictionary over 10 years and returns the net book value of each asset in each year.\n",
    "\n",
    "Note: Your answer will have two loops- one nested inside of another. You may want to play around with which loop should be the outside versus inside loop. Be sure to use the net book value function you created in exercise 4."
   ]
  },
  {
   "cell_type": "code",
   "execution_count": 136,
   "metadata": {},
   "outputs": [
    {
     "data": {
      "text/plain": [
       "{'Table': ['total_years'],\n",
       " 'Chair': ['total_years'],\n",
       " 'Building': ['total_years'],\n",
       " 'Land': ['total_years']}"
      ]
     },
     "execution_count": 136,
     "metadata": {},
     "output_type": "execute_result"
    }
   ],
   "source": [
    "assets = {'Table' : ['total_years'], 'Chair' : ['total_years'], 'Building' : ['total_years'], 'Land' : ['total_years']}\n",
    "assets"
   ]
  },
  {
   "cell_type": "code",
   "execution_count": 171,
   "metadata": {},
   "outputs": [
    {
     "ename": "TypeError",
     "evalue": "'>=' not supported between instances of 'list' and 'str'",
     "output_type": "error",
     "traceback": [
      "\u001b[0;31m---------------------------------------------------------------------------\u001b[0m",
      "\u001b[0;31mTypeError\u001b[0m                                 Traceback (most recent call last)",
      "\u001b[0;32m/var/folders/xp/sw_vjs8s7pdcq6bfz9y7pw640000gn/T/ipykernel_10859/3999597457.py\u001b[0m in \u001b[0;36m<module>\u001b[0;34m\u001b[0m\n\u001b[1;32m      4\u001b[0m \u001b[0;34m\u001b[0m\u001b[0m\n\u001b[1;32m      5\u001b[0m \u001b[0;32mfor\u001b[0m \u001b[0mkey\u001b[0m\u001b[0;34m,\u001b[0m \u001b[0mvalue\u001b[0m \u001b[0;32min\u001b[0m \u001b[0massets\u001b[0m\u001b[0;34m.\u001b[0m\u001b[0mitems\u001b[0m\u001b[0;34m(\u001b[0m\u001b[0;34m)\u001b[0m\u001b[0;34m:\u001b[0m\u001b[0;34m\u001b[0m\u001b[0;34m\u001b[0m\u001b[0m\n\u001b[0;32m----> 6\u001b[0;31m     \u001b[0;32mif\u001b[0m \u001b[0mvalue\u001b[0m \u001b[0;34m>=\u001b[0m \u001b[0;34m'10'\u001b[0m\u001b[0;34m:\u001b[0m\u001b[0;34m\u001b[0m\u001b[0;34m\u001b[0m\u001b[0m\n\u001b[0m\u001b[1;32m      7\u001b[0m         \u001b[0mprint\u001b[0m\u001b[0;34m(\u001b[0m\u001b[0mkey\u001b[0m \u001b[0;34m+\u001b[0m \u001b[0mnet_book_value\u001b[0m\u001b[0;34m)\u001b[0m\u001b[0;34m\u001b[0m\u001b[0;34m\u001b[0m\u001b[0m\n",
      "\u001b[0;31mTypeError\u001b[0m: '>=' not supported between instances of 'list' and 'str'"
     ]
    }
   ],
   "source": [
    "def net_book_value(historical_cost, accumulated_depreciation):\n",
    "    accumulated_depreciation = (annual_depreciation*total_years)\n",
    "    return(net_book_value)\n",
    "\n",
    "for key, value in assets.items():\n",
    "    if value >= '10':\n",
    "        print(key + net_book_value)"
   ]
  },
  {
   "cell_type": "markdown",
   "metadata": {},
   "source": [
    "## Read for Monday's Class\n",
    "\n",
    "In class next week we will complete Trina’s Trinkets case study. Please read the first 2 pages and skim pages 3 and 4 of Trina’s Trinkets so that you’re familiar with the scenario."
   ]
  }
 ],
 "metadata": {
  "kernelspec": {
   "display_name": "Python 3 (ipykernel)",
   "language": "python",
   "name": "python3"
  },
  "language_info": {
   "codemirror_mode": {
    "name": "ipython",
    "version": 3
   },
   "file_extension": ".py",
   "mimetype": "text/x-python",
   "name": "python",
   "nbconvert_exporter": "python",
   "pygments_lexer": "ipython3",
   "version": "3.9.7"
  }
 },
 "nbformat": 4,
 "nbformat_minor": 4
}
